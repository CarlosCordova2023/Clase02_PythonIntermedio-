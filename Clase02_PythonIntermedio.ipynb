{
  "nbformat": 4,
  "nbformat_minor": 0,
  "metadata": {
    "colab": {
      "provenance": [],
      "authorship_tag": "ABX9TyPjhpr1ZRsdZP6D8sDV9/WZ",
      "include_colab_link": true
    },
    "kernelspec": {
      "name": "python3",
      "display_name": "Python 3"
    },
    "language_info": {
      "name": "python"
    }
  },
  "cells": [
    {
      "cell_type": "markdown",
      "metadata": {
        "id": "view-in-github",
        "colab_type": "text"
      },
      "source": [
        "<a href=\"https://colab.research.google.com/github/CarlosCordova2023/Clase02_PythonIntermedio-/blob/main/Clase02_PythonIntermedio.ipynb\" target=\"_parent\"><img src=\"https://colab.research.google.com/assets/colab-badge.svg\" alt=\"Open In Colab\"/></a>"
      ]
    },
    {
      "cell_type": "code",
      "execution_count": null,
      "metadata": {
        "colab": {
          "base_uri": "https://localhost:8080/"
        },
        "id": "D1uiN8VIqTkP",
        "outputId": "3c0c8845-78b1-4db4-d794-885036672067"
      },
      "outputs": [
        {
          "output_type": "stream",
          "name": "stdout",
          "text": [
            "False\n",
            "True\n"
          ]
        }
      ],
      "source": [
        "a = 5\n",
        "b = 10\n",
        "\n",
        "print(a == b)   # False\n",
        "print(a < b)    # True\n"
      ]
    },
    {
      "cell_type": "code",
      "source": [
        "x = 10\n",
        "\n",
        "if x > 0:\n",
        "    print(\"Positivo\")\n",
        "elif x == 0:\n",
        "    print(\"Cero\")\n",
        "else:\n",
        "    print(\"Negativo\")\n"
      ],
      "metadata": {
        "colab": {
          "base_uri": "https://localhost:8080/"
        },
        "id": "zkoPVnSdq3Hh",
        "outputId": "3a9893fd-fd4e-486b-e2f1-3ed450125859"
      },
      "execution_count": null,
      "outputs": [
        {
          "output_type": "stream",
          "name": "stdout",
          "text": [
            "Positivo\n"
          ]
        }
      ]
    },
    {
      "cell_type": "code",
      "source": [
        "x = 15\n",
        "\n",
        "if x > 10:\n",
        "    if x < 20:\n",
        "        print(\"Entre 10 y 20\")\n",
        "    else:\n",
        "        print(\"Mayor o igual a 20\")\n",
        "else:\n",
        "    print(\"Menor o igual a 10\")\n"
      ],
      "metadata": {
        "colab": {
          "base_uri": "https://localhost:8080/"
        },
        "id": "gTScQB44rAuD",
        "outputId": "8e3adeb4-9a4a-4742-cea0-60cf21d561fa"
      },
      "execution_count": null,
      "outputs": [
        {
          "output_type": "stream",
          "name": "stdout",
          "text": [
            "Entre 10 y 20\n"
          ]
        }
      ]
    },
    {
      "cell_type": "code",
      "source": [
        "\n",
        "for i in range(5):\n",
        "    print(i)\n"
      ],
      "metadata": {
        "colab": {
          "base_uri": "https://localhost:8080/"
        },
        "id": "E-7PSvQZrI-P",
        "outputId": "d9badc3a-b95e-4980-d3aa-457bdb619bef"
      },
      "execution_count": null,
      "outputs": [
        {
          "output_type": "stream",
          "name": "stdout",
          "text": [
            "0\n",
            "1\n",
            "2\n",
            "3\n",
            "4\n"
          ]
        }
      ]
    },
    {
      "cell_type": "code",
      "source": [
        "for i in range(1,5):\n",
        "    print(i)"
      ],
      "metadata": {
        "colab": {
          "base_uri": "https://localhost:8080/"
        },
        "id": "afGNFpvysz-P",
        "outputId": "925e82cb-2e9d-4405-d235-2c6a0c164666"
      },
      "execution_count": null,
      "outputs": [
        {
          "output_type": "stream",
          "name": "stdout",
          "text": [
            "1\n",
            "2\n",
            "3\n",
            "4\n"
          ]
        }
      ]
    },
    {
      "cell_type": "code",
      "source": [
        "count = 0\n",
        "while count < 5:\n",
        "    print(count)\n",
        "    count += 1\n"
      ],
      "metadata": {
        "colab": {
          "base_uri": "https://localhost:8080/"
        },
        "id": "u-tloiPGsEe6",
        "outputId": "ed778135-8f11-44f6-bf56-b9b22bd483a6"
      },
      "execution_count": null,
      "outputs": [
        {
          "output_type": "stream",
          "name": "stdout",
          "text": [
            "0\n",
            "1\n",
            "2\n",
            "3\n",
            "4\n"
          ]
        }
      ]
    },
    {
      "cell_type": "code",
      "source": [
        "for i in range(10):\n",
        "    if i == 5:\n",
        "        break\n",
        "    print(i)\n"
      ],
      "metadata": {
        "colab": {
          "base_uri": "https://localhost:8080/"
        },
        "id": "pug5gaPFt-nP",
        "outputId": "a49f7105-6c95-48ff-a370-270c3f6ada05"
      },
      "execution_count": null,
      "outputs": [
        {
          "output_type": "stream",
          "name": "stdout",
          "text": [
            "0\n",
            "1\n",
            "2\n",
            "3\n",
            "4\n"
          ]
        }
      ]
    },
    {
      "cell_type": "code",
      "source": [
        "for i in range(5):\n",
        "    if i == 3:\n",
        "        continue\n",
        "    print(i)\n"
      ],
      "metadata": {
        "colab": {
          "base_uri": "https://localhost:8080/"
        },
        "id": "lMpcWqE0uDM4",
        "outputId": "e93dc2b5-fc1c-4cc7-b24f-09026919e296"
      },
      "execution_count": null,
      "outputs": [
        {
          "output_type": "stream",
          "name": "stdout",
          "text": [
            "0\n",
            "1\n",
            "2\n",
            "4\n"
          ]
        }
      ]
    },
    {
      "cell_type": "code",
      "source": [
        "for i in range(3):\n",
        "    for j in range(2):\n",
        "        print(i, j)\n"
      ],
      "metadata": {
        "colab": {
          "base_uri": "https://localhost:8080/"
        },
        "id": "Id5MtGhAuJav",
        "outputId": "569d63ec-105b-4e40-b0b4-27d1587d14de"
      },
      "execution_count": null,
      "outputs": [
        {
          "output_type": "stream",
          "name": "stdout",
          "text": [
            "0 0\n",
            "0 1\n",
            "1 0\n",
            "1 1\n",
            "2 0\n",
            "2 1\n"
          ]
        }
      ]
    },
    {
      "cell_type": "code",
      "source": [
        "num1 = int(input(\"Ingrese el primer número: \"))\n",
        "num2 = int(input(\"Ingrese el segundo número: \"))\n",
        "\n",
        "if num1 > num2:\n",
        "    print(f\"{num1} es mayor que {num2}\")\n",
        "elif num1 < num2:\n",
        "    print(f\"{num1} es menor que {num2}\")\n",
        "else:\n",
        "    print(\"Ambos números son iguales\")\n"
      ],
      "metadata": {
        "colab": {
          "base_uri": "https://localhost:8080/"
        },
        "id": "SBiMqsJXul1e",
        "outputId": "3d8936e4-2301-4553-cd27-b10c6e94bf0f"
      },
      "execution_count": null,
      "outputs": [
        {
          "output_type": "stream",
          "name": "stdout",
          "text": [
            "Ingrese el primer número: 4\n",
            "Ingrese el segundo número: 4\n",
            "Ambos números son iguales\n"
          ]
        }
      ]
    },
    {
      "cell_type": "code",
      "source": [
        "num = int(input(\"Ingrese un número: \"))\n",
        "\n",
        "if num % 2 == 0:\n",
        "    print(f\"{num} es par\")\n",
        "else:\n",
        "    print(f\"{num} es impar\")\n"
      ],
      "metadata": {
        "colab": {
          "base_uri": "https://localhost:8080/"
        },
        "id": "_VZqKZBovMGd",
        "outputId": "70c059e5-b07a-435e-a8f1-2464bd1bf224"
      },
      "execution_count": null,
      "outputs": [
        {
          "output_type": "stream",
          "name": "stdout",
          "text": [
            "Ingrese un número: 2\n",
            "2 es par\n"
          ]
        }
      ]
    },
    {
      "cell_type": "code",
      "source": [
        "num1 = float(input(\"Ingrese el primer número: \"))\n",
        "num2 = float(input(\"Ingrese el segundo número: \"))\n",
        "\n",
        "print(\"Operaciones disponibles: +, -, *, /\")\n",
        "operacion = input(\"Elija la operación: \")\n",
        "\n",
        "if operacion == \"+\":\n",
        "    print(f\"Resultado: {num1 + num2}\")\n",
        "elif operacion == \"-\":\n",
        "    print(f\"Resultado: {num1 - num2}\")\n",
        "elif operacion == \"*\":\n",
        "    print(f\"Resultado: {num1 * num2}\")\n",
        "elif operacion == \"/\":\n",
        "    if num2 != 0:\n",
        "        print(f\"Resultado: {num1 / num2}\")\n",
        "    else:\n",
        "        print(\"Error: División por cero\")\n",
        "else:\n",
        "    print(\"Operación no válida\")\n"
      ],
      "metadata": {
        "colab": {
          "base_uri": "https://localhost:8080/"
        },
        "id": "b8cP0vHjvbwP",
        "outputId": "11f8e2de-c776-47e5-a9c5-089febd00c82"
      },
      "execution_count": null,
      "outputs": [
        {
          "output_type": "stream",
          "name": "stdout",
          "text": [
            "Ingrese el primer número: 5.8\n",
            "Ingrese el segundo número: 9.8\n",
            "Operaciones disponibles: +, -, *, /\n",
            "Elija la operación: -\n",
            "Resultado: -4.000000000000001\n"
          ]
        }
      ]
    },
    {
      "cell_type": "code",
      "source": [
        "while True:\n",
        "    num1 = float(input(\"Ingrese el primer número: \"))\n",
        "    num2 = float(input(\"Ingrese el segundo número: \"))\n",
        "\n",
        "    print(\"Operaciones disponibles: +, -, *, /\")\n",
        "    operacion = input(\"Elija la operación (o ingrese 'a' para salir): \")\n",
        "\n",
        "    if operacion == \"a\":\n",
        "        print(\"Saliendo del programa...\")\n",
        "        break\n",
        "    elif operacion == \"+\":\n",
        "        print(f\"Resultado: {num1 + num2}\")\n",
        "    elif operacion == \"-\":\n",
        "        print(f\"Resultado: {num1 - num2}\")\n",
        "    elif operacion == \"*\":\n",
        "        print(f\"Resultado: {num1 * num2}\")\n",
        "    elif operacion == \"/\":\n",
        "        if num2 != 0:\n",
        "            print(f\"Resultado: {num1 / num2}\")\n",
        "        else:\n",
        "            print(\"Error: División por cero\")\n",
        "    else:\n",
        "        print(\"Operación no válida\")\n"
      ],
      "metadata": {
        "colab": {
          "base_uri": "https://localhost:8080/"
        },
        "id": "5TSMlbMKvzzq",
        "outputId": "6b63d0f8-2af3-4afc-affb-47e6c8ef3eee"
      },
      "execution_count": null,
      "outputs": [
        {
          "output_type": "stream",
          "name": "stdout",
          "text": [
            "Ingrese el primer número: 3.8\n",
            "Ingrese el segundo número: 8.3\n",
            "Operaciones disponibles: +, -, *, /\n",
            "Elija la operación (o ingrese 'a' para salir): +\n",
            "Resultado: 12.100000000000001\n",
            "Ingrese el primer número: 4\n",
            "Ingrese el segundo número: 3\n",
            "Operaciones disponibles: +, -, *, /\n",
            "Elija la operación (o ingrese 'a' para salir): a\n",
            "Saliendo del programa...\n"
          ]
        }
      ]
    },
    {
      "cell_type": "code",
      "source": [
        "for i in range(1, 101):\n",
        "    if i % 3 == 0 and i % 5 == 0:\n",
        "        print(i)\n"
      ],
      "metadata": {
        "colab": {
          "base_uri": "https://localhost:8080/"
        },
        "id": "O03brEAZwrln",
        "outputId": "58ec3ff5-c35f-4792-e5da-243fbe2ff212"
      },
      "execution_count": null,
      "outputs": [
        {
          "output_type": "stream",
          "name": "stdout",
          "text": [
            "15\n",
            "30\n",
            "45\n",
            "60\n",
            "75\n",
            "90\n"
          ]
        }
      ]
    },
    {
      "cell_type": "code",
      "source": [
        "while True:\n",
        "    num = int(input(\"Ingrese un número positivo (negativo para salir): \"))\n",
        "    if num < 0:\n",
        "        break\n",
        "    print(f\"Ingresaste el número: {num}\")\n"
      ],
      "metadata": {
        "colab": {
          "base_uri": "https://localhost:8080/"
        },
        "id": "LWE93KigxVht",
        "outputId": "28b06f02-c431-4fdd-ae7a-54d66e7acda2"
      },
      "execution_count": null,
      "outputs": [
        {
          "name": "stdout",
          "output_type": "stream",
          "text": [
            "Ingrese un número positivo (negativo para salir): 4\n",
            "Ingresaste el número: 4\n",
            "Ingrese un número positivo (negativo para salir): -4\n"
          ]
        }
      ]
    },
    {
      "cell_type": "code",
      "source": [
        "# Solicitar una lista de números al usuario\n",
        "numeros = list(map(int, input(\"Ingrese una lista de números separados por espacios: \").split()))\n",
        "\n",
        "# Imprimir solo los números pares\n",
        "print(\"Números pares en la lista:\")\n",
        "for num in numeros:\n",
        "    if num % 2 == 0:\n",
        "        print(num)\n"
      ],
      "metadata": {
        "colab": {
          "base_uri": "https://localhost:8080/"
        },
        "id": "yrno-xiryIm9",
        "outputId": "c0cd9cc2-2124-4e55-c2a2-09a8728dd99e"
      },
      "execution_count": null,
      "outputs": [
        {
          "output_type": "stream",
          "name": "stdout",
          "text": [
            "Ingrese una lista de números separados por espacios: 3 4 5 2 3 4 5 222222\n",
            "Números pares en la lista:\n",
            "4\n",
            "2\n",
            "4\n",
            "222222\n"
          ]
        }
      ]
    },
    {
      "cell_type": "code",
      "source": [
        "# Solicitar un número al usuario\n",
        "num = float(input(\"Ingrese un número: \"))\n",
        "\n",
        "# Verificar si el número es positivo, negativo o cero\n",
        "if num > 0:\n",
        "    print(\"El número es positivo.\")\n",
        "elif num < 0:\n",
        "    print(\"El número es negativo.\")\n",
        "else:\n",
        "    print(\"El número es cero.\")\n"
      ],
      "metadata": {
        "colab": {
          "base_uri": "https://localhost:8080/"
        },
        "id": "302Z7exszST-",
        "outputId": "30e3ffa8-5588-4e3c-dcd4-57150e73f684"
      },
      "execution_count": null,
      "outputs": [
        {
          "output_type": "stream",
          "name": "stdout",
          "text": [
            "Ingrese un número: 4\n",
            "El número es positivo.\n"
          ]
        }
      ]
    },
    {
      "cell_type": "code",
      "source": [
        "while True:\n",
        "    print(\"\\nMenú de opciones:\")\n",
        "    print(\"1. Sumar\")\n",
        "    print(\"2. Restar\")\n",
        "    print(\"3. Multiplicar\")\n",
        "    print(\"4. Dividir\")\n",
        "    print(\"5. Salir\")\n",
        "\n",
        "    opcion = input(\"Elija una opción (1/2/3/4/5): \")\n",
        "\n",
        "    if opcion == '5':\n",
        "        print(\"Saliendo del programa...\")\n",
        "        break\n",
        "\n",
        "    num1 = float(input(\"Ingrese el primer número: \"))\n",
        "    num2 = float(input(\"Ingrese el segundo número: \"))\n",
        "\n",
        "    if opcion == '1':\n",
        "        print(f\"Resultado: {num1 + num2}\")\n",
        "    elif opcion == '2':\n",
        "        print(f\"Resultado: {num1 - num2}\")\n",
        "    elif opcion == '3':\n",
        "        print(f\"Resultado: {num1 * num2}\")\n",
        "    elif opcion == '4':\n",
        "        if num2 != 0:\n",
        "            print(f\"Resultado: {num1 / num2}\")\n",
        "        else:\n",
        "            print(\"Error: División por cero\")\n",
        "    else:\n",
        "        print(\"Opción no válida. Por favor, elija una opción del 1 al 5.\")\n"
      ],
      "metadata": {
        "colab": {
          "base_uri": "https://localhost:8080/"
        },
        "id": "Z8zChBf8zgzk",
        "outputId": "a924d769-f3a4-43ac-d3b5-9a131795a00e"
      },
      "execution_count": null,
      "outputs": [
        {
          "output_type": "stream",
          "name": "stdout",
          "text": [
            "\n",
            "Menú de opciones:\n",
            "1. Sumar\n",
            "2. Restar\n",
            "3. Multiplicar\n",
            "4. Dividir\n",
            "5. Salir\n",
            "Elija una opción (1/2/3/4/5): 1\n",
            "Ingrese el primer número: 3\n",
            "Ingrese el segundo número: 4\n",
            "Resultado: 7.0\n",
            "\n",
            "Menú de opciones:\n",
            "1. Sumar\n",
            "2. Restar\n",
            "3. Multiplicar\n",
            "4. Dividir\n",
            "5. Salir\n",
            "Elija una opción (1/2/3/4/5): 5\n",
            "Saliendo del programa...\n"
          ]
        }
      ]
    }
  ]
}